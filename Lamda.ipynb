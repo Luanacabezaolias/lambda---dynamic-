{
 "cells": [
  {
   "cell_type": "code",
   "execution_count": 1,
   "metadata": {},
   "outputs": [
    {
     "name": "stdout",
     "output_type": "stream",
     "text": [
      "<function <lambda> at 0x000002BD705DFCE0>\n"
     ]
    }
   ],
   "source": [
    "tripo = lambda x: x*3\n",
    "print(tripo)"
   ]
  },
  {
   "cell_type": "code",
   "execution_count": 2,
   "metadata": {},
   "outputs": [
    {
     "name": "stdout",
     "output_type": "stream",
     "text": [
      "Nome: Luana\n",
      "Sobrenome: Cabezaolias\n"
     ]
    }
   ],
   "source": [
    "nome_completo = lambda nome, sobrenome: f'Nome: {nome}\\nSobrenome: {sobrenome}'\n",
    "\n",
    "print(nome_completo('Luana', 'Cabezaolias'))"
   ]
  },
  {
   "cell_type": "code",
   "execution_count": 5,
   "metadata": {},
   "outputs": [
    {
     "name": "stdout",
     "output_type": "stream",
     "text": [
      "True\n",
      "False\n",
      "False\n"
     ]
    }
   ],
   "source": [
    "comeca_com_a = lambda x: True if x.startswith('A') else False\n",
    "\n",
    "print(comeca_com_a('Anny'))\n",
    "print(comeca_com_a('Lu'))\n",
    "print(comeca_com_a('Fla'))\n"
   ]
  },
  {
   "cell_type": "code",
   "execution_count": 7,
   "metadata": {},
   "outputs": [
    {
     "name": "stdout",
     "output_type": "stream",
     "text": [
      "criança\n",
      "adolescente\n",
      "adulto\n"
     ]
    }
   ],
   "source": [
    "classificar_idade = lambda idade: 'criança' if idade < 13 else ('adolescente' if idade <18 else 'adulto')\n",
    "\n",
    "print(classificar_idade(10))\n",
    "print(classificar_idade(15))\n",
    "print(classificar_idade(20))"
   ]
  },
  {
   "cell_type": "code",
   "execution_count": null,
   "metadata": {},
   "outputs": [],
   "source": [
    "\"\"\"Crie uma estrutura usando o parametro lambda para os seguinte casos:\n",
    "\n",
    "1. Crie um algoritmo para calcular uma equação do primeiro grau.\n",
    "Equação - 10 x * 5\n",
    "\n",
    "2.Crie um algoritmo para calcular a força em newtons usando as duas variáveis\n",
    "massa e aceleração (F = m x a )\n",
    "\n",
    "3.Crie um algoritmo para calcular a temperatura em graus (C) e Fahereit (F) usaqndo as variaveis temp, escala.\n",
    "Converter F em C é: (temp - 32) * (5/9)\n",
    "\"\"\""
   ]
  },
  {
   "cell_type": "code",
   "execution_count": 10,
   "metadata": {},
   "outputs": [
    {
     "name": "stdout",
     "output_type": "stream",
     "text": [
      "500\n"
     ]
    }
   ],
   "source": [
    "#1 \n",
    "equacao = lambda x: (10*x) * 5 \n",
    "\n",
    "print(equacao(10))"
   ]
  },
  {
   "cell_type": "code",
   "execution_count": 11,
   "metadata": {},
   "outputs": [
    {
     "name": "stdout",
     "output_type": "stream",
     "text": [
      "8\n"
     ]
    }
   ],
   "source": [
    "#2\n",
    "\n",
    "calcular_forca = lambda massa, aceleracao: massa * aceleracao\n",
    "print(calcular_forca(2,4))"
   ]
  },
  {
   "cell_type": "code",
   "execution_count": 5,
   "metadata": {},
   "outputs": [
    {
     "name": "stdout",
     "output_type": "stream",
     "text": [
      "51.44444444444444\n",
      "122.4\n",
      "Escala inválida\n"
     ]
    }
   ],
   "source": [
    "#3\n",
    "converter_temperatura = lambda temp, escala: (temp - 5/9) + 32 if escala == 'C' else (temp - 32) * (9/5) if escala == 'F' else 'Escala inválida'\n",
    "\n",
    "print(converter_temperatura(20, 'C'))\n",
    "print(converter_temperatura(100, 'F'))\n",
    "print(converter_temperatura(100, 'K'))\n",
    "\n"
   ]
  }
 ],
 "metadata": {
  "kernelspec": {
   "display_name": "Python 3",
   "language": "python",
   "name": "python3"
  },
  "language_info": {
   "codemirror_mode": {
    "name": "ipython",
    "version": 3
   },
   "file_extension": ".py",
   "mimetype": "text/x-python",
   "name": "python",
   "nbconvert_exporter": "python",
   "pygments_lexer": "ipython3",
   "version": "3.11.4"
  },
  "orig_nbformat": 4
 },
 "nbformat": 4,
 "nbformat_minor": 2
}
